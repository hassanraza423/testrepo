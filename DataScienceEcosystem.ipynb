{
 "cells": [
  {
   "cell_type": "markdown",
   "id": "c725f32f-ec81-4610-bd04-d95145945923",
   "metadata": {},
   "source": [
    "# Data Science Tools and Ecosystem\n"
   ]
  },
  {
   "cell_type": "markdown",
   "id": "a9224109-b00a-447a-bd94-9ddb77aef1eb",
   "metadata": {},
   "source": [
    "In this notebook, Data Science Tools and Ecosystem are summarized."
   ]
  },
  {
   "cell_type": "markdown",
   "id": "28a94009-a75f-4735-abda-a68ad8add0be",
   "metadata": {},
   "source": [
    "Some of the popular languages data scientist use are:\n",
    "1. Python\n",
    "2. Julia\n",
    "3. R"
   ]
  },
  {
   "cell_type": "markdown",
   "id": "74ca8536-45b5-4e4d-939f-bb185e8a5063",
   "metadata": {},
   "source": [
    "Some of the commonly used  libraries data science libraries included:\n",
    "1. pandas\n",
    "2. ggplot\n",
    "3. numpy"
   ]
  },
  {
   "cell_type": "markdown",
   "id": "b431419e-b82c-4e9e-a2b4-03b7b91f20ca",
   "metadata": {
    "tags": []
   },
   "source": [
    "| Data Science Tools |\n",
    "| ------------------- |\n",
    "| Jupyter Notebook    |\n",
    "| RStudio             |\n",
    "| VSCode              |"
   ]
  },
  {
   "cell_type": "markdown",
   "id": "33ef2b79-78a9-4633-a5b4-34732f4932b7",
   "metadata": {},
   "source": [
    "### Below are few examples of evaluting arithematic expression in python"
   ]
  },
  {
   "cell_type": "code",
   "execution_count": 6,
   "id": "df0c348d-b09c-4b76-abfe-f90672788611",
   "metadata": {
    "tags": []
   },
   "outputs": [
    {
     "data": {
      "text/plain": [
       "17"
      ]
     },
     "execution_count": 6,
     "metadata": {},
     "output_type": "execute_result"
    }
   ],
   "source": [
    "# This is simple arithematic expression to multiple then add intergers.\n",
    "\n",
    "(3*4)+5"
   ]
  },
  {
   "cell_type": "code",
   "execution_count": 3,
   "id": "0f39b557-93fc-4334-b985-319252615e2a",
   "metadata": {
    "tags": []
   },
   "outputs": [
    {
     "data": {
      "text/plain": [
       "3.3333333333333335"
      ]
     },
     "execution_count": 3,
     "metadata": {},
     "output_type": "execute_result"
    }
   ],
   "source": [
    "# This will convert 200 minutes to hours by dividing by 60\n",
    "\n",
    "200/60"
   ]
  },
  {
   "cell_type": "markdown",
   "id": "ab3dbc77-aa81-4860-b507-5eaa0dc80a6e",
   "metadata": {
    "tags": []
   },
   "source": [
    "**Objectives**\n",
    "\n",
    "- List popular languages for Data Science.\n",
    "- Understand the basics of version control with GitHub.\n",
    "- Learn about continuous integration and delivery.\n",
    "- Explore Jupyter notebooks and markdown usage.\n",
    "- Gain insights into creating tables in markdown."
   ]
  },
  {
   "cell_type": "markdown",
   "id": "7c085958-fc1c-4c71-8203-57a9c7904166",
   "metadata": {},
   "source": [
    "| Data Science Tools |\n",
    "| ------------------- |\n",
    "| Jupyter Notebook    |\n",
    "| RStudio             |\n",
    "| VSCode              |"
   ]
  },
  {
   "cell_type": "code",
   "execution_count": null,
   "id": "d1ea282a-6ef2-4941-b65d-20fa45a83990",
   "metadata": {},
   "outputs": [],
   "source": []
  }
 ],
 "metadata": {
  "kernelspec": {
   "display_name": "Python",
   "language": "python",
   "name": "conda-env-python-py"
  },
  "language_info": {
   "codemirror_mode": {
    "name": "ipython",
    "version": 3
   },
   "file_extension": ".py",
   "mimetype": "text/x-python",
   "name": "python",
   "nbconvert_exporter": "python",
   "pygments_lexer": "ipython3",
   "version": "3.7.12"
  }
 },
 "nbformat": 4,
 "nbformat_minor": 5
}
